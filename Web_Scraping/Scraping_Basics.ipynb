{
  "nbformat": 4,
  "nbformat_minor": 0,
  "metadata": {
    "colab": {
      "name": "Scraping Basics.ipynb",
      "provenance": [],
      "collapsed_sections": [],
      "authorship_tag": "ABX9TyPlQMtf+nZE1ZsXvYDzFJJk"
    },
    "kernelspec": {
      "name": "python3",
      "display_name": "Python 3"
    },
    "language_info": {
      "name": "python"
    }
  },
  "cells": [
    {
      "cell_type": "code",
      "metadata": {
        "colab": {
          "base_uri": "https://localhost:8080/"
        },
        "id": "Oup8eSu8Bykx",
        "outputId": "956b3a45-51dc-4215-ec3a-a5f7636e6f1d"
      },
      "source": [
        "import requests\n",
        "from bs4 import BeautifulSoup\n",
        "url = 'http://quotes.toscrape.com/'\n",
        "response = requests.get(url)\n",
        "soup = BeautifulSoup(response.text,'lxml')\n",
        "quotes = soup.find_all(\"span\", class_=\"text\")\n",
        "authors = soup.find_all(\"small\", class_=\"author\")\n",
        "tags = soup.find_all(\"div\", class_=\"tags\")\n",
        "for i in range(0,len(quotes)):\n",
        "    print(quotes[i].text)\n",
        "    print(authors[i].text)\n",
        "    quoteTags = tags[i].find_all('a',class_='tag')\n",
        "    for quoteTag in quoteTags:\n",
        "        print(quoteTag.text)"
      ],
      "execution_count": null,
      "outputs": [
        {
          "output_type": "stream",
          "name": "stdout",
          "text": [
            "“The world as we have created it is a process of our thinking. It cannot be changed without changing our thinking.”\n",
            "Albert Einstein\n",
            "change\n",
            "deep-thoughts\n",
            "thinking\n",
            "world\n",
            "“It is our choices, Harry, that show what we truly are, far more than our abilities.”\n",
            "J.K. Rowling\n",
            "abilities\n",
            "choices\n",
            "“There are only two ways to live your life. One is as though nothing is a miracle. The other is as though everything is a miracle.”\n",
            "Albert Einstein\n",
            "inspirational\n",
            "life\n",
            "live\n",
            "miracle\n",
            "miracles\n",
            "“The person, be it gentleman or lady, who has not pleasure in a good novel, must be intolerably stupid.”\n",
            "Jane Austen\n",
            "aliteracy\n",
            "books\n",
            "classic\n",
            "humor\n",
            "“Imperfection is beauty, madness is genius and it's better to be absolutely ridiculous than absolutely boring.”\n",
            "Marilyn Monroe\n",
            "be-yourself\n",
            "inspirational\n",
            "“Try not to become a man of success. Rather become a man of value.”\n",
            "Albert Einstein\n",
            "adulthood\n",
            "success\n",
            "value\n",
            "“It is better to be hated for what you are than to be loved for what you are not.”\n",
            "André Gide\n",
            "life\n",
            "love\n",
            "“I have not failed. I've just found 10,000 ways that won't work.”\n",
            "Thomas A. Edison\n",
            "edison\n",
            "failure\n",
            "inspirational\n",
            "paraphrased\n",
            "“A woman is like a tea bag; you never know how strong it is until it's in hot water.”\n",
            "Eleanor Roosevelt\n",
            "misattributed-eleanor-roosevelt\n",
            "“A day without sunshine is like, you know, night.”\n",
            "Steve Martin\n",
            "humor\n",
            "obvious\n",
            "simile\n"
          ]
        }
      ]
    },
    {
      "cell_type": "markdown",
      "metadata": {
        "id": "5nv6H4yfCuoj"
      },
      "source": [
        "scrapingclub.com for further practice"
      ]
    },
    {
      "cell_type": "code",
      "metadata": {
        "id": "qdHve7cXCWA5"
      },
      "source": [
        "url = 'https://scrapingclub.com/exercise/list_basic/'\n",
        "response = requests.get(url)\n",
        "soup = BeautifulSoup(response.text, 'lxml')\n",
        "items = soup.find_all('div', class_='col-lg-4 col-md-6 mb-4')\n"
      ],
      "execution_count": null,
      "outputs": []
    },
    {
      "cell_type": "code",
      "metadata": {
        "colab": {
          "base_uri": "https://localhost:8080/"
        },
        "id": "-DmWnWPODKZp",
        "outputId": "e4b23ace-f839-4ee5-ebab-f392c5524820"
      },
      "source": [
        "print(items)"
      ],
      "execution_count": null,
      "outputs": [
        {
          "output_type": "stream",
          "name": "stdout",
          "text": [
            "[<div class=\"col-lg-4 col-md-6 mb-4\">\n",
            "<div class=\"card\">\n",
            "<a href=\"/exercise/list_basic_detail/90008-E/\"><img alt=\"\" class=\"card-img-top img-fluid\" src=\"/static/img/90008-E.jpg\"/></a>\n",
            "<div class=\"card-body\">\n",
            "<h4 class=\"card-title\">\n",
            "<a href=\"/exercise/list_basic_detail/90008-E/\">Short Dress</a>\n",
            "</h4>\n",
            "<h5>$24.99</h5>\n",
            "</div>\n",
            "</div>\n",
            "</div>, <div class=\"col-lg-4 col-md-6 mb-4\">\n",
            "<div class=\"card\">\n",
            "<a href=\"/exercise/list_basic_detail/96436-A/\"><img alt=\"\" class=\"card-img-top img-fluid\" src=\"/static/img/96436-A.jpg\"/></a>\n",
            "<div class=\"card-body\">\n",
            "<h4 class=\"card-title\">\n",
            "<a href=\"/exercise/list_basic_detail/96436-A/\">Patterned Slacks</a>\n",
            "</h4>\n",
            "<h5>$29.99</h5>\n",
            "</div>\n",
            "</div>\n",
            "</div>, <div class=\"col-lg-4 col-md-6 mb-4\">\n",
            "<div class=\"card\">\n",
            "<a href=\"/exercise/list_basic_detail/93926-B/\"><img alt=\"\" class=\"card-img-top img-fluid\" src=\"/static/img/93926-B.jpg\"/></a>\n",
            "<div class=\"card-body\">\n",
            "<h4 class=\"card-title\">\n",
            "<a href=\"/exercise/list_basic_detail/93926-B/\">Short Chiffon Dress</a>\n",
            "</h4>\n",
            "<h5>$49.99</h5>\n",
            "</div>\n",
            "</div>\n",
            "</div>, <div class=\"col-lg-4 col-md-6 mb-4\">\n",
            "<div class=\"card\">\n",
            "<a href=\"/exercise/list_basic_detail/90882-B/\"><img alt=\"\" class=\"card-img-top img-fluid\" src=\"/static/img/90882-B.jpg\"/></a>\n",
            "<div class=\"card-body\">\n",
            "<h4 class=\"card-title\">\n",
            "<a href=\"/exercise/list_basic_detail/90882-B/\">Off-the-shoulder Dress</a>\n",
            "</h4>\n",
            "<h5>$59.99</h5>\n",
            "</div>\n",
            "</div>\n",
            "</div>, <div class=\"col-lg-4 col-md-6 mb-4\">\n",
            "<div class=\"card\">\n",
            "<a href=\"/exercise/list_basic_detail/93756-C/\"><img alt=\"\" class=\"card-img-top img-fluid\" src=\"/static/img/93756-C.jpg\"/></a>\n",
            "<div class=\"card-body\">\n",
            "<h4 class=\"card-title\">\n",
            "<a href=\"/exercise/list_basic_detail/93756-C/\">V-neck Top</a>\n",
            "</h4>\n",
            "<h5>$24.99</h5>\n",
            "</div>\n",
            "</div>\n",
            "</div>, <div class=\"col-lg-4 col-md-6 mb-4\">\n",
            "<div class=\"card\">\n",
            "<a href=\"/exercise/list_basic_detail/93926-C/\"><img alt=\"\" class=\"card-img-top img-fluid\" src=\"/static/img/93926-C.jpg\"/></a>\n",
            "<div class=\"card-body\">\n",
            "<h4 class=\"card-title\">\n",
            "<a href=\"/exercise/list_basic_detail/93926-C/\">Short Chiffon Dress</a>\n",
            "</h4>\n",
            "<h5>$49.99</h5>\n",
            "</div>\n",
            "</div>\n",
            "</div>, <div class=\"col-lg-4 col-md-6 mb-4\">\n",
            "<div class=\"card\">\n",
            "<a href=\"/exercise/list_basic_detail/93756-B/\"><img alt=\"\" class=\"card-img-top img-fluid\" src=\"/static/img/93756-B.jpg\"/></a>\n",
            "<div class=\"card-body\">\n",
            "<h4 class=\"card-title\">\n",
            "<a href=\"/exercise/list_basic_detail/93756-B/\">V-neck Top</a>\n",
            "</h4>\n",
            "<h5>$24.99</h5>\n",
            "</div>\n",
            "</div>\n",
            "</div>, <div class=\"col-lg-4 col-md-6 mb-4\">\n",
            "<div class=\"card\">\n",
            "<a href=\"/exercise/list_basic_detail/93756-D/\"><img alt=\"\" class=\"card-img-top img-fluid\" src=\"/static/img/93756-D.jpg\"/></a>\n",
            "<div class=\"card-body\">\n",
            "<h4 class=\"card-title\">\n",
            "<a href=\"/exercise/list_basic_detail/93756-D/\">V-neck Top</a>\n",
            "</h4>\n",
            "<h5>$24.99</h5>\n",
            "</div>\n",
            "</div>\n",
            "</div>, <div class=\"col-lg-4 col-md-6 mb-4\">\n",
            "<div class=\"card\">\n",
            "<a href=\"/exercise/list_basic_detail/96643-A/\"><img alt=\"\" class=\"card-img-top img-fluid\" src=\"/static/img/96643-A.jpg\"/></a>\n",
            "<div class=\"card-body\">\n",
            "<h4 class=\"card-title\">\n",
            "<a href=\"/exercise/list_basic_detail/96643-A/\">Short Lace Dress</a>\n",
            "</h4>\n",
            "<h5>$59.99</h5>\n",
            "</div>\n",
            "</div>\n",
            "</div>]\n"
          ]
        }
      ]
    },
    {
      "cell_type": "code",
      "metadata": {
        "colab": {
          "base_uri": "https://localhost:8080/"
        },
        "id": "fxG7PEWACWDv",
        "outputId": "b0fa3b07-cd5f-4f3a-b473-7126588a8457"
      },
      "source": [
        "#<h4 class=\"card-title\">  \n",
        "#<a href=\"/exercise/list_basic_detail/96643-A/\">Short Lace Dress</a>  \n",
        "#</h4> \n",
        "#so h4 has the item name and h5 has the price\n",
        "count = 1\n",
        "for i in items:\n",
        "    itemName = i.find('h4', class_='card-title').text.strip('\\n') #stripping to remove \"ItemName :\" being printed in every line\n",
        "    itemPrice = i.find('h5').text\n",
        "    print('%s) Price: %s , Item Name: %s' % (count, itemPrice, itemName))\n",
        "    count = count + 1\n"
      ],
      "execution_count": null,
      "outputs": [
        {
          "output_type": "stream",
          "name": "stdout",
          "text": [
            "1) Price: $24.99 , Item Name: Short Dress\n",
            "2) Price: $29.99 , Item Name: Patterned Slacks\n",
            "3) Price: $49.99 , Item Name: Short Chiffon Dress\n",
            "4) Price: $59.99 , Item Name: Off-the-shoulder Dress\n",
            "5) Price: $24.99 , Item Name: V-neck Top\n",
            "6) Price: $49.99 , Item Name: Short Chiffon Dress\n",
            "7) Price: $24.99 , Item Name: V-neck Top\n",
            "8) Price: $24.99 , Item Name: V-neck Top\n",
            "9) Price: $59.99 , Item Name: Short Lace Dress\n"
          ]
        }
      ]
    },
    {
      "cell_type": "markdown",
      "metadata": {
        "id": "j9vdIKGZEavL"
      },
      "source": [
        "But all this is just from one page. Doin it for multiple pages.\n",
        "Use the Chrome inspector, to identify how to navigate pages."
      ]
    },
    {
      "cell_type": "code",
      "metadata": {
        "id": "haW8N8cxEX2T"
      },
      "source": [
        "pagination = soup.find('ul', class_='pagination') #scrape the pagination line\n",
        "pages = pagination.find_all('a', class_='page-link') #list of urls og these pages which can be later passed one by one to scrape each page.\n"
      ],
      "execution_count": null,
      "outputs": []
    },
    {
      "cell_type": "code",
      "metadata": {
        "colab": {
          "base_uri": "https://localhost:8080/"
        },
        "id": "dsXz5E3sCWGa",
        "outputId": "4f3ac065-8e7c-4a3e-e82a-e6aca3610349"
      },
      "source": [
        "urls = []\n",
        "for page in pages:\n",
        "    pageNum = int(page.text) if page.text.isdigit() else None #because in the pages line there's alsp a Next page option but we a;ready have stored the next page's link in the pages list  while scraping the page numbers and corresponding links. So we dont want tpstore the link that \"Next\" button has.\n",
        "    if pageNum != None:\n",
        "        link = page.get('href')\n",
        "        urls.append(link)\n",
        "print(urls)"
      ],
      "execution_count": null,
      "outputs": [
        {
          "output_type": "stream",
          "name": "stdout",
          "text": [
            "['?page=2', '?page=3', '?page=4', '?page=5', '?page=6', '?page=7']\n"
          ]
        }
      ]
    },
    {
      "cell_type": "code",
      "metadata": {
        "colab": {
          "base_uri": "https://localhost:8080/"
        },
        "id": "DfDNIszQCWIy",
        "outputId": "effba583-f391-4b41-d093-e83f434012c4"
      },
      "source": [
        "for i in urls:\n",
        "    response = requests.get(url + i) #to convert the HTML code into a navigable object in Python and retrieve source code from a webpage\n",
        "    soup = BeautifulSoup(response.text, 'lxml') #to make it more readable and interpretable\n",
        "    items = soup.find_all('div', class_='col-lg-4 col-md-6 mb-4')\n",
        "    for i in items:\n",
        "        itemName = i.find('h4', class_='card-title').text.strip('\\n')\n",
        "        itemPrice = i.find('h5').text\n",
        "        print('%s) Price: %s , Item Name: %s' % (count, itemPrice, itemName))\n",
        "        count = count + 1"
      ],
      "execution_count": null,
      "outputs": [
        {
          "output_type": "stream",
          "name": "stdout",
          "text": [
            "10) Price: $34.99 , Item Name: Fitted Dress\n",
            "11) Price: $69.99 , Item Name: V-neck Jumpsuit\n",
            "12) Price: $54.99 , Item Name: Chiffon Dress\n",
            "13) Price: $39.99 , Item Name: Skinny High Waist Jeans\n",
            "14) Price: $19.99 , Item Name: Super Skinny High Jeans\n",
            "15) Price: $19.99 , Item Name: Oversized Denim Jacket\n",
            "16) Price: $24.99 , Item Name: Short Sweatshirt\n",
            "17) Price: $12.99 , Item Name: Long-sleeved Jersey Top\n",
            "18) Price: $39.99 , Item Name: Skinny High Waist Jeans\n",
            "19) Price: $24.99 , Item Name: Short Sweatshirt\n",
            "20) Price: $12.99 , Item Name: Long-sleeved Jersey Top\n",
            "21) Price: $12.99 , Item Name: Long-sleeved Jersey Top\n",
            "22) Price: $19.99 , Item Name: Jersey Dress\n",
            "23) Price: $24.99 , Item Name: Short Sweatshirt\n",
            "24) Price: $24.99 , Item Name: Crinkled Flounced Blouse\n",
            "25) Price: $29.99 , Item Name: Bib Overall Dress\n",
            "26) Price: $17.99 , Item Name: Loose-knit Sweater\n",
            "27) Price: $29.99 , Item Name: Skinny Regular Jeans\n",
            "28) Price: $12.99 , Item Name: Henley-style Top\n",
            "29) Price: $17.99 , Item Name: Joggers\n",
            "30) Price: $34.99 , Item Name: Skirt with Lacing\n",
            "31) Price: $17.99 , Item Name: Top with Tie\n",
            "32) Price: $34.99 , Item Name: Joggers\n",
            "33) Price: $49.99 , Item Name: Chiffon Dress with Flounce\n",
            "34) Price: $34.99 , Item Name: Skirt with Lacing\n",
            "35) Price: $9.99 , Item Name: V-neck Top\n",
            "36) Price: $29.99 , Item Name: Hooded Jacket\n",
            "37) Price: $29.99 , Item Name: Hooded Top\n",
            "38) Price: $34.99 , Item Name: Lyocell-blend Blouse\n",
            "39) Price: $29.99 , Item Name: Bib Overall Dress\n",
            "40) Price: $34.99 , Item Name: Wide-leg Pants\n",
            "41) Price: $24.99 , Item Name: Ankle-length Slim-fit Pants\n",
            "42) Price: $9.99 , Item Name: Short Sweatshirt\n",
            "43) Price: $17.99 , Item Name: V-neck Blouse\n",
            "44) Price: $24.99 , Item Name: Short Skirt\n",
            "45) Price: $17.99 , Item Name: Mesh T-shirt\n",
            "46) Price: $59.99 , Item Name: Blouse with Embroidery\n",
            "47) Price: $34.99 , Item Name: Wide-cut Cotton Top\n",
            "48) Price: $54.99 , Item Name: Pleated Skirt\n",
            "49) Price: $69.99 , Item Name: Coat\n",
            "50) Price: $49.99 , Item Name: Wide-leg Pants\n",
            "51) Price: $29.99 , Item Name: Top\n",
            "52) Price: $69.99 , Item Name: Knit Mohair-blend Sweater\n",
            "53) Price: $69.99 , Item Name: Dress\n",
            "54) Price: $29.99 , Item Name: T-shirt with Embroidery\n",
            "55) Price: $49.99 , Item Name: Blouse with Ruffled Collar\n",
            "56) Price: $49.99 , Item Name: Pants\n",
            "57) Price: $19.99 , Item Name: Jersey Dress\n",
            "58) Price: $6.99 , Item Name: T-shirt\n",
            "59) Price: $6.99 , Item Name: T-shirt\n",
            "60) Price: $49.99 , Item Name: Blazer\n"
          ]
        }
      ]
    },
    {
      "cell_type": "code",
      "metadata": {
        "id": "mefQTPILCWLR"
      },
      "source": [
        ""
      ],
      "execution_count": null,
      "outputs": []
    },
    {
      "cell_type": "code",
      "metadata": {
        "id": "F7SdIxrRCWNK"
      },
      "source": [
        ""
      ],
      "execution_count": null,
      "outputs": []
    },
    {
      "cell_type": "code",
      "metadata": {
        "id": "_ca9I2-zCWP7"
      },
      "source": [
        ""
      ],
      "execution_count": null,
      "outputs": []
    },
    {
      "cell_type": "code",
      "metadata": {
        "id": "8u4zelE8CAsi"
      },
      "source": [
        ""
      ],
      "execution_count": null,
      "outputs": []
    }
  ]
}