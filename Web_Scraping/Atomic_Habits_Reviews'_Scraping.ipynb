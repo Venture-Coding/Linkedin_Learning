{
  "nbformat": 4,
  "nbformat_minor": 0,
  "metadata": {
    "colab": {
      "name": "Atomic Habits - Reviews' Scraping",
      "provenance": [],
      "authorship_tag": "ABX9TyMZ6UR0iPXBA718xdpwQl73",
      "include_colab_link": true
    },
    "kernelspec": {
      "name": "python3",
      "display_name": "Python 3"
    },
    "language_info": {
      "name": "python"
    }
  },
  "cells": [
    {
      "cell_type": "markdown",
      "metadata": {
        "id": "view-in-github",
        "colab_type": "text"
      },
      "source": [
        "<a href=\"https://colab.research.google.com/github/Venture-Coding/Linkedin_Learning/blob/main/Web_Scraping/Atomic_Habits_Reviews'_Scraping.ipynb\" target=\"_parent\"><img src=\"https://colab.research.google.com/assets/colab-badge.svg\" alt=\"Open In Colab\"/></a>"
      ]
    },
    {
      "cell_type": "code",
      "metadata": {
        "colab": {
          "base_uri": "https://localhost:8080/"
        },
        "id": "NZJB66f8KbJt",
        "outputId": "bfa447db-cac6-438e-fe70-d88370f55bdf"
      },
      "source": [
        "!apt update\n",
        "!apt install chromium-chromedriver\n",
        "!pip install selenium\n",
        "#necessary step as updated versions are required for smooth functioning. Code suggested in one of the google colab tuts as well."
      ],
      "execution_count": 11,
      "outputs": [
        {
          "output_type": "stream",
          "name": "stdout",
          "text": [
            "\u001b[33m\r0% [Working]\u001b[0m\r            \rHit:1 https://cloud.r-project.org/bin/linux/ubuntu bionic-cran40/ InRelease\n",
            "\u001b[33m\r0% [Connecting to archive.ubuntu.com (91.189.88.142)] [Waiting for headers] [Co\u001b[0m\r                                                                               \rGet:2 http://security.ubuntu.com/ubuntu bionic-security InRelease [88.7 kB]\n",
            "\u001b[33m\r0% [Connecting to archive.ubuntu.com (91.189.88.142)] [2 InRelease 14.2 kB/88.7\u001b[0m\u001b[33m\r0% [1 InRelease gpgv 3,626 B] [Connecting to archive.ubuntu.com (91.189.88.142)\u001b[0m\u001b[33m\r0% [1 InRelease gpgv 3,626 B] [Connecting to archive.ubuntu.com (91.189.88.142)\u001b[0m\r                                                                               \rIgn:3 https://developer.download.nvidia.com/compute/cuda/repos/ubuntu1804/x86_64  InRelease\n",
            "\u001b[33m\r0% [1 InRelease gpgv 3,626 B] [Waiting for headers] [Waiting for headers] [Wait\u001b[0m\r                                                                               \rHit:4 http://ppa.launchpad.net/c2d4u.team/c2d4u4.0+/ubuntu bionic InRelease\n",
            "Hit:5 http://archive.ubuntu.com/ubuntu bionic InRelease\n",
            "Ign:6 https://developer.download.nvidia.com/compute/machine-learning/repos/ubuntu1804/x86_64  InRelease\n",
            "Hit:7 https://developer.download.nvidia.com/compute/cuda/repos/ubuntu1804/x86_64  Release\n",
            "Hit:8 https://developer.download.nvidia.com/compute/machine-learning/repos/ubuntu1804/x86_64  Release\n",
            "Hit:9 http://archive.ubuntu.com/ubuntu bionic-updates InRelease\n",
            "Hit:10 http://ppa.launchpad.net/cran/libgit2/ubuntu bionic InRelease\n",
            "Hit:11 http://archive.ubuntu.com/ubuntu bionic-backports InRelease\n",
            "Hit:12 http://ppa.launchpad.net/deadsnakes/ppa/ubuntu bionic InRelease\n",
            "Hit:13 http://ppa.launchpad.net/graphics-drivers/ppa/ubuntu bionic InRelease\n",
            "Fetched 88.7 kB in 2s (39.6 kB/s)\n",
            "Reading package lists... Done\n",
            "Building dependency tree       \n",
            "Reading state information... Done\n",
            "39 packages can be upgraded. Run 'apt list --upgradable' to see them.\n",
            "Reading package lists... Done\n",
            "Building dependency tree       \n",
            "Reading state information... Done\n",
            "chromium-chromedriver is already the newest version (95.0.4638.69-0ubuntu0.18.04.1).\n",
            "0 upgraded, 0 newly installed, 0 to remove and 39 not upgraded.\n",
            "Requirement already satisfied: selenium in /usr/local/lib/python3.7/dist-packages (4.1.0)\n",
            "Requirement already satisfied: urllib3[secure]~=1.26 in /usr/local/lib/python3.7/dist-packages (from selenium) (1.26.7)\n",
            "Requirement already satisfied: trio-websocket~=0.9 in /usr/local/lib/python3.7/dist-packages (from selenium) (0.9.2)\n",
            "Requirement already satisfied: trio~=0.17 in /usr/local/lib/python3.7/dist-packages (from selenium) (0.19.0)\n",
            "Requirement already satisfied: idna in /usr/local/lib/python3.7/dist-packages (from trio~=0.17->selenium) (2.10)\n",
            "Requirement already satisfied: async-generator>=1.9 in /usr/local/lib/python3.7/dist-packages (from trio~=0.17->selenium) (1.10)\n",
            "Requirement already satisfied: sortedcontainers in /usr/local/lib/python3.7/dist-packages (from trio~=0.17->selenium) (2.4.0)\n",
            "Requirement already satisfied: outcome in /usr/local/lib/python3.7/dist-packages (from trio~=0.17->selenium) (1.1.0)\n",
            "Requirement already satisfied: attrs>=19.2.0 in /usr/local/lib/python3.7/dist-packages (from trio~=0.17->selenium) (21.2.0)\n",
            "Requirement already satisfied: sniffio in /usr/local/lib/python3.7/dist-packages (from trio~=0.17->selenium) (1.2.0)\n",
            "Requirement already satisfied: wsproto>=0.14 in /usr/local/lib/python3.7/dist-packages (from trio-websocket~=0.9->selenium) (1.0.0)\n",
            "Requirement already satisfied: cryptography>=1.3.4 in /usr/local/lib/python3.7/dist-packages (from urllib3[secure]~=1.26->selenium) (36.0.0)\n",
            "Requirement already satisfied: pyOpenSSL>=0.14 in /usr/local/lib/python3.7/dist-packages (from urllib3[secure]~=1.26->selenium) (21.0.0)\n",
            "Requirement already satisfied: certifi in /usr/local/lib/python3.7/dist-packages (from urllib3[secure]~=1.26->selenium) (2021.10.8)\n",
            "Requirement already satisfied: cffi>=1.12 in /usr/local/lib/python3.7/dist-packages (from cryptography>=1.3.4->urllib3[secure]~=1.26->selenium) (1.15.0)\n",
            "Requirement already satisfied: pycparser in /usr/local/lib/python3.7/dist-packages (from cffi>=1.12->cryptography>=1.3.4->urllib3[secure]~=1.26->selenium) (2.21)\n",
            "Requirement already satisfied: six>=1.5.2 in /usr/local/lib/python3.7/dist-packages (from pyOpenSSL>=0.14->urllib3[secure]~=1.26->selenium) (1.15.0)\n",
            "Requirement already satisfied: h11<1,>=0.9.0 in /usr/local/lib/python3.7/dist-packages (from wsproto>=0.14->trio-websocket~=0.9->selenium) (0.12.0)\n"
          ]
        }
      ]
    },
    {
      "cell_type": "code",
      "metadata": {
        "id": "j_QU2-ti9s_E"
      },
      "source": [
        "import pandas as pd\n",
        "import io\n",
        "import os, sys \n",
        "from bs4 import BeautifulSoup\n",
        "import requests,json, re\n"
      ],
      "execution_count": 12,
      "outputs": []
    },
    {
      "cell_type": "code",
      "metadata": {
        "colab": {
          "base_uri": "https://localhost:8080/"
        },
        "id": "0BcTntXb91h0",
        "outputId": "9703f1dc-3055-4536-df2c-3d163789ec74"
      },
      "source": [
        "from selenium import webdriver\n",
        "from selenium.webdriver.chrome.options import Options\n",
        "chrome_options = Options()\n",
        "\n",
        "#options for headless browsing\n",
        "chrome_options.add_argument(\"--headless\")\n",
        "chrome_options.add_argument('--no-sandbox')\n",
        "driver = webdriver.Chrome('/usr/lib/chromium-browser/chromedriver', options=chrome_options)\n",
        "driver.get('http://www.google.com')\n",
        "print('test') #to check if the function isn't falling apart, executing well.\n",
        "\n"
      ],
      "execution_count": 13,
      "outputs": [
        {
          "output_type": "stream",
          "name": "stderr",
          "text": [
            "/usr/local/lib/python3.7/dist-packages/ipykernel_launcher.py:8: DeprecationWarning: executable_path has been deprecated, please pass in a Service object\n",
            "  \n"
          ]
        },
        {
          "output_type": "stream",
          "name": "stdout",
          "text": [
            "test\n"
          ]
        }
      ]
    },
    {
      "cell_type": "code",
      "metadata": {
        "id": "dzHKT93pXfXJ"
      },
      "source": [
        "\n",
        "path = 'amazon_scraping'\n",
        "\n",
        "for i in range(1,11) :\n",
        "    #driver = webdriver.Chrome(ChromeDriverManager().install())\n",
        "    url = 'https://www.amazon.com/Atomic-Habits-Proven-Build-Break/product-reviews/0735211299/ref=cm_cr_getr_d_paging_btm_prev_1?ie=UTF8&reviewerType=all_reviews&pageNumber='+str(i)\n",
        "    driver.get(url)\n",
        "    #time.sleep(1)\n",
        "    html = driver.page_source \n",
        "    soup = BeautifulSoup(html, 'html.parser')\n",
        "    try:    \n",
        "      with open(path+\"_page_\"+str(i)+\".html\", \"w\", encoding=\"utf-8\") as f: #all files written and saved, can download from files tab google colab\n",
        "        f.write(html)\n",
        "    except IOError as ex:\n",
        "      print(\"Error performing I/O operations on the file: \",ex)    \n"
      ],
      "execution_count": 14,
      "outputs": []
    },
    {
      "cell_type": "code",
      "metadata": {
        "colab": {
          "base_uri": "https://localhost:8080/"
        },
        "id": "6EVx-AoUG357",
        "outputId": "c5f3ee58-b6b1-4b20-9643-3ce89f48b369"
      },
      "source": [
        "file = open(path+'_page_'+'3'+'.html',encoding='utf-8')\n",
        "soup = BeautifulSoup(file, 'html.parser')\n",
        "\n",
        "#trying various tags using \"Inspect Element\" to see which one gives what output\n",
        "print((soup.find_all('span',{'data-hook':\"review-body\"})))"
      ],
      "execution_count": 15,
      "outputs": [
        {
          "output_type": "stream",
          "name": "stdout",
          "text": [
            "[<span class=\"a-size-base review-text review-text-content\" data-hook=\"review-body\">\n",
            "<span>\n",
            "  I didn’t like this book at all. I had high expectations based on the reviews but it was a total waste of money. There’s nothing on the book that I don’t already know. It doesn’t have a guideline, instead  it uses dumb examples of people who accomplished certain goals based on their habits. I stopped reading it 3/4 of the way through. Not my type of book.\n",
            "</span>\n",
            "</span>, <span class=\"a-size-base review-text review-text-content\" data-hook=\"review-body\">\n",
            "<span>\n",
            "  If you have ever taken an introductory psychology course, created a detailed schedule or plan, or have a daily routine, then this book will tell you absolutely nothing new. It could be useful for a teenager or very young adult who has limited life experience &amp; knowledge, but the fact that it's popular among adults I feel, sadly, demonstrates a poor lack of education and ambition for self-help in our society.<br/><br/>Here are a few suggestions outlined in the book:<br/>After eating dinner, I will put my plate directly in the dishwasher.<br/>If I want to learn something new, I will surround myself with people who already know it.<br/>If my smartphone is distracting me during work, leave it another room.<br/>To encourage taking vitamins, keep the vitamins near your sink &amp; water glass where I will see it in the morining.<br/><br/>I would hope that the typical adults would already have the forethought to be using habits such as these.<br/><br/>Additionally, about half the book are lengthy anecdotes.<br/><br/>Overall, I'm extremely disappointed in this book and question why these simple, intuitive techniques aren't already being used by society.\n",
            "</span>\n",
            "</span>, <span class=\"a-size-base review-text review-text-content\" data-hook=\"review-body\">\n",
            "<span>\n",
            "  So many nonfiction books are too full of fluff, too text book-y or just plain too long.<br/><br/>Not Atomic Habits.<br/><br/>Somehow, James Clear has packed it all in:<br/><br/>- Innovative, novel concepts with the<br/>- Proven science of what’s behind them with<br/>- Practical steps for easy implementation and<br/>- Memorable, entertaining stories that bring the ideas to life.<br/><br/>I was lucky to get access to the audiobook early, and I devoured it. I’m glad I did.<br/><br/>If this book doesn’t change your life in some significant way, I don’t know what will.<br/><br/>Mo Bunnell<br/>Author, The Snowball System: How to win more business and turn clients into raving fans\n",
            "</span>\n",
            "</span>, <span class=\"a-size-base review-text review-text-content\" data-hook=\"review-body\">\n",
            "<span>\n",
            "  I bought this book because I am a big believer in building habits and predictable routines in one's personal and work life. I read the whole book. I was disappointed.<br/><br/>Pros:<br/>- Links identity and habits. You are what you do. From that point of view, just going to the gym makes you the type of person who works out, even if you don't do much of a workout.<br/>- Introduces the idea that habits bring cumulative benefits like compound interest. While not obviously always the case, it's a powerful idea that definitely applies in areas like meditation or physical training, where the observable changes are minimal at first.<br/><br/>Cons:<br/>- The book doesn't delve into examples of good habits and the why and how to build them. It stays at the meta / generic level, leaving the reader to think about what habits they may want to build.<br/>- The overall principles for building good habits are sound, even if high level and a bit obvious (make the good habits easy, the bad ones hard, etc).<br/>- The book is way too long for what it has to convey. Often things repeat or you wonder when the next chapter or thought will start, and when that happens, you lose track of what the earlier one was about -- mainly due to their length.<br/><br/>Overall, not recommended.\n",
            "</span>\n",
            "</span>, <span class=\"a-size-base review-text review-text-content\" data-hook=\"review-body\">\n",
            "<span>\n",
            "  I've been reading James Clear's work for a long time.  In fact, I can remember his first two blogs, one for photography and the other was Passive Panda.  Since that time his exploration of habits and how to modify them has easily equaled or surpassed the work of Charles Duhigg.<br/>I would highly recommend this book to anyone looking to improve and build good habits or stifle and destroy bad ones.  As I have the audio version,  one of the reasons I give the book 4/5 is due to the speed at which he speaks, which is not bad and I admit to being spoilt by the professional narrators of two other audiobooks in, Deep Work and Rejectionproof. The other reason is the reliance on the work of social scientists, psychologists, etc.  I realize that a number of books in the self-improvement space use scientific studies from the above-mentioned fields but the scandals concerning p-hacking and failure to replicate experiments make me wonder how valid the examples in this book and books like it really are.<br/>Having said all of that, I would not have stuck with James all these years if he did not provide information that was useful and more importantly, actionable. I look forward to reading whatever he writes next.\n",
            "</span>\n",
            "</span>, <span class=\"a-size-base review-text review-text-content\" data-hook=\"review-body\">\n",
            "<span>\n",
            "  Eh, nothing new here.\n",
            "</span>\n",
            "</span>, <span class=\"a-size-base review-text review-text-content\" data-hook=\"review-body\">\n",
            "<span>\n",
            "  8/10<br/><br/>Atomic Habits is a useful book. It’s a practical guide to identifying and changing your habits. It’s something you can actually put into practice in your life.<br/>I think that all of the concepts in the book are good and useful to know but some of the action points I think are slightly oversimplified. If you take the action points in some chapters and modify them to your specific situation you can still apply most of them but you do have to do some critical thinking with the material.<br/>I like that the book is simple and straightforward. James Clear doesn’t bog you down with a lot of conceptual material. He starts each chapter with an example (some are better than others), gives you the concept plainly, and then gives you concrete actions to apply the concept in real life. It’s a nice formula. Each chapter is roughly 15-20min.<br/>This book is worth reading. It’s easy to apply the knowledge and action steps. Even if it doesn’t completely change your behavior, it will make you more aware of yourself. It provides a good lens that you can use to view yourself and others. I would recommend it to anyone who is trying to really set an air-tight routine. If you follow the book you can definitely make something a habit.<br/>I’m a fan of James Clear. I have read his newsletter for about 2yrs now. His newsletter is one of the best I’ve read because it’s interesting and well researched and always has some take away for me. His book is really an expansion on a lot of things he’s covered in his newsletter. There are some chapters that I was already very familiar with because I had read his previous material on it. This doesn’t detract from the book. He expands on most things he’s written about before. The book is laid out like a road map and builds upon itself, which is something you don’t really get from the newsletter.<br/>The intro is pretty graphic. It’s about a personal injury the author has faced. I recommend being prepared for that. Once you get through that it’s all good.\n",
            "</span>\n",
            "</span>, <span class=\"a-size-base review-text review-text-content\" data-hook=\"review-body\">\n",
            "<span>\n",
            "  So disappointed in this book.  Double and rambling repetition of same basic premise. Make small positive choices every day over time result in positive outcome.  Staggering amount of fluff in between.  Message could be delivered on one page.  Something has to be up with these recommendations. I've never seen a book with 22K ratings w/ five stars. Especially a book as poor as this one.\n",
            "</span>\n",
            "</span>, <span class=\"a-size-base review-text review-text-content\" data-hook=\"review-body\">\n",
            "<span>\n",
            "  The most impactful book I've ever read about habits was The Power of Habit....and then Atomic Habits came along. James takes everything I loved about The Power of Habit and expands on it here. The book is chock full of real, practical, and actional advice anyone can take to add more good habits and tweak bad habits over the long term.<br/><br/>I was able to listen to a copy and James is a clear narrator who tells an interesting story. He mixes the perfect blend of science and stories to get the point across and make you feel like creating new habits is not some daunting task only for special people but for anyone. I found myself nodding along as I listened and stopped it at least a dozen times to take notes.<br/><br/>I got at least 4-5 'a-ha' moments about building habits that shattered the conventional wisdom I'd always thought about before. From realizing that I've been approaching will-power the wrong way and the question that I should ask myself next time I want to lose weight or work out.<br/><br/>I've been thinking about Atomic Habits since I finished it and cannot wait to dig into it again. I've been recommending it to everyone.\n",
            "</span>\n",
            "</span>, <span class=\"a-size-base review-text review-text-content\" data-hook=\"review-body\">\n",
            "<span>\n",
            "  I've been a fan of James Clear for some time and I think his work is amazing. I couldn't be more happy to see his new book come out and I've been devouring this since I got it. I've read a lot on the topic of habits, including Charles Duhigg's book. I think Atomic Habits delivers the best science and easiest practical applications for habit change that is available today.<br/><br/>This book has not only been blowing my mind, but I've been taking diligent notes on the strategies and tactics to put to use immediately. The Habit Scorecard is a great example of a self inventory on good, neutral, and bad habits - which starts with awareness about your habits.<br/><br/>Chapter 2 is a total game-changer and something I've actually believed for a long time, to change your habits, you have to change your beliefs about who you want to become. You have to aspire to become what you are seeking to change. In other words, it's not about the outcome, it's about what you value and who you're striving to be. This is transformative stuff and so glad James has written about this.<br/><br/>Honestly, there is not one person I know who wouldn't benefit from reading this book as habits are truly the core of success in any area of life.<br/><br/>I HIGHLY recommend reading and applying this book because it speaks the truth: small changes repeated over and over make the biggest difference in the quality of our lives. These strategies can be applied to anything.<br/><br/>HUGE congrats to James Clear for sharing such brilliant work!\n",
            "</span>\n",
            "</span>]\n"
          ]
        }
      ]
    },
    {
      "cell_type": "code",
      "metadata": {
        "colab": {
          "base_uri": "https://localhost:8080/"
        },
        "id": "2AbDtp0yW1I2",
        "outputId": "2f74a534-15e1-4ab9-8318-afd741d216ec"
      },
      "source": [
        "#checking if it's iterable\n",
        "for i in soup.find_all('span',{'data-hook':\"review-body\"}): #.find_all gives iterable object/list, .find gave NoneType error\n",
        "  print(i.text) #to get rid of all the tags\n"
      ],
      "execution_count": 16,
      "outputs": [
        {
          "output_type": "stream",
          "name": "stdout",
          "text": [
            "\n",
            "\n",
            "  I didn’t like this book at all. I had high expectations based on the reviews but it was a total waste of money. There’s nothing on the book that I don’t already know. It doesn’t have a guideline, instead  it uses dumb examples of people who accomplished certain goals based on their habits. I stopped reading it 3/4 of the way through. Not my type of book.\n",
            "\n",
            "\n",
            "\n",
            "\n",
            "  If you have ever taken an introductory psychology course, created a detailed schedule or plan, or have a daily routine, then this book will tell you absolutely nothing new. It could be useful for a teenager or very young adult who has limited life experience & knowledge, but the fact that it's popular among adults I feel, sadly, demonstrates a poor lack of education and ambition for self-help in our society.Here are a few suggestions outlined in the book:After eating dinner, I will put my plate directly in the dishwasher.If I want to learn something new, I will surround myself with people who already know it.If my smartphone is distracting me during work, leave it another room.To encourage taking vitamins, keep the vitamins near your sink & water glass where I will see it in the morining.I would hope that the typical adults would already have the forethought to be using habits such as these.Additionally, about half the book are lengthy anecdotes.Overall, I'm extremely disappointed in this book and question why these simple, intuitive techniques aren't already being used by society.\n",
            "\n",
            "\n",
            "\n",
            "\n",
            "  So many nonfiction books are too full of fluff, too text book-y or just plain too long.Not Atomic Habits.Somehow, James Clear has packed it all in:- Innovative, novel concepts with the- Proven science of what’s behind them with- Practical steps for easy implementation and- Memorable, entertaining stories that bring the ideas to life.I was lucky to get access to the audiobook early, and I devoured it. I’m glad I did.If this book doesn’t change your life in some significant way, I don’t know what will.Mo BunnellAuthor, The Snowball System: How to win more business and turn clients into raving fans\n",
            "\n",
            "\n",
            "\n",
            "\n",
            "  I bought this book because I am a big believer in building habits and predictable routines in one's personal and work life. I read the whole book. I was disappointed.Pros:- Links identity and habits. You are what you do. From that point of view, just going to the gym makes you the type of person who works out, even if you don't do much of a workout.- Introduces the idea that habits bring cumulative benefits like compound interest. While not obviously always the case, it's a powerful idea that definitely applies in areas like meditation or physical training, where the observable changes are minimal at first.Cons:- The book doesn't delve into examples of good habits and the why and how to build them. It stays at the meta / generic level, leaving the reader to think about what habits they may want to build.- The overall principles for building good habits are sound, even if high level and a bit obvious (make the good habits easy, the bad ones hard, etc).- The book is way too long for what it has to convey. Often things repeat or you wonder when the next chapter or thought will start, and when that happens, you lose track of what the earlier one was about -- mainly due to their length.Overall, not recommended.\n",
            "\n",
            "\n",
            "\n",
            "\n",
            "  I've been reading James Clear's work for a long time.  In fact, I can remember his first two blogs, one for photography and the other was Passive Panda.  Since that time his exploration of habits and how to modify them has easily equaled or surpassed the work of Charles Duhigg.I would highly recommend this book to anyone looking to improve and build good habits or stifle and destroy bad ones.  As I have the audio version,  one of the reasons I give the book 4/5 is due to the speed at which he speaks, which is not bad and I admit to being spoilt by the professional narrators of two other audiobooks in, Deep Work and Rejectionproof. The other reason is the reliance on the work of social scientists, psychologists, etc.  I realize that a number of books in the self-improvement space use scientific studies from the above-mentioned fields but the scandals concerning p-hacking and failure to replicate experiments make me wonder how valid the examples in this book and books like it really are.Having said all of that, I would not have stuck with James all these years if he did not provide information that was useful and more importantly, actionable. I look forward to reading whatever he writes next.\n",
            "\n",
            "\n",
            "\n",
            "\n",
            "  Eh, nothing new here.\n",
            "\n",
            "\n",
            "\n",
            "\n",
            "  8/10Atomic Habits is a useful book. It’s a practical guide to identifying and changing your habits. It’s something you can actually put into practice in your life.I think that all of the concepts in the book are good and useful to know but some of the action points I think are slightly oversimplified. If you take the action points in some chapters and modify them to your specific situation you can still apply most of them but you do have to do some critical thinking with the material.I like that the book is simple and straightforward. James Clear doesn’t bog you down with a lot of conceptual material. He starts each chapter with an example (some are better than others), gives you the concept plainly, and then gives you concrete actions to apply the concept in real life. It’s a nice formula. Each chapter is roughly 15-20min.This book is worth reading. It’s easy to apply the knowledge and action steps. Even if it doesn’t completely change your behavior, it will make you more aware of yourself. It provides a good lens that you can use to view yourself and others. I would recommend it to anyone who is trying to really set an air-tight routine. If you follow the book you can definitely make something a habit.I’m a fan of James Clear. I have read his newsletter for about 2yrs now. His newsletter is one of the best I’ve read because it’s interesting and well researched and always has some take away for me. His book is really an expansion on a lot of things he’s covered in his newsletter. There are some chapters that I was already very familiar with because I had read his previous material on it. This doesn’t detract from the book. He expands on most things he’s written about before. The book is laid out like a road map and builds upon itself, which is something you don’t really get from the newsletter.The intro is pretty graphic. It’s about a personal injury the author has faced. I recommend being prepared for that. Once you get through that it’s all good.\n",
            "\n",
            "\n",
            "\n",
            "\n",
            "  So disappointed in this book.  Double and rambling repetition of same basic premise. Make small positive choices every day over time result in positive outcome.  Staggering amount of fluff in between.  Message could be delivered on one page.  Something has to be up with these recommendations. I've never seen a book with 22K ratings w/ five stars. Especially a book as poor as this one.\n",
            "\n",
            "\n",
            "\n",
            "\n",
            "  The most impactful book I've ever read about habits was The Power of Habit....and then Atomic Habits came along. James takes everything I loved about The Power of Habit and expands on it here. The book is chock full of real, practical, and actional advice anyone can take to add more good habits and tweak bad habits over the long term.I was able to listen to a copy and James is a clear narrator who tells an interesting story. He mixes the perfect blend of science and stories to get the point across and make you feel like creating new habits is not some daunting task only for special people but for anyone. I found myself nodding along as I listened and stopped it at least a dozen times to take notes.I got at least 4-5 'a-ha' moments about building habits that shattered the conventional wisdom I'd always thought about before. From realizing that I've been approaching will-power the wrong way and the question that I should ask myself next time I want to lose weight or work out.I've been thinking about Atomic Habits since I finished it and cannot wait to dig into it again. I've been recommending it to everyone.\n",
            "\n",
            "\n",
            "\n",
            "\n",
            "  I've been a fan of James Clear for some time and I think his work is amazing. I couldn't be more happy to see his new book come out and I've been devouring this since I got it. I've read a lot on the topic of habits, including Charles Duhigg's book. I think Atomic Habits delivers the best science and easiest practical applications for habit change that is available today.This book has not only been blowing my mind, but I've been taking diligent notes on the strategies and tactics to put to use immediately. The Habit Scorecard is a great example of a self inventory on good, neutral, and bad habits - which starts with awareness about your habits.Chapter 2 is a total game-changer and something I've actually believed for a long time, to change your habits, you have to change your beliefs about who you want to become. You have to aspire to become what you are seeking to change. In other words, it's not about the outcome, it's about what you value and who you're striving to be. This is transformative stuff and so glad James has written about this.Honestly, there is not one person I know who wouldn't benefit from reading this book as habits are truly the core of success in any area of life.I HIGHLY recommend reading and applying this book because it speaks the truth: small changes repeated over and over make the biggest difference in the quality of our lives. These strategies can be applied to anything.HUGE congrats to James Clear for sharing such brilliant work!\n",
            "\n",
            "\n"
          ]
        }
      ]
    },
    {
      "cell_type": "code",
      "metadata": {
        "colab": {
          "base_uri": "https://localhost:8080/"
        },
        "id": "bRv2bws5MN0o",
        "outputId": "ac00a90e-eaf3-4080-dff3-285b56ba7f46"
      },
      "source": [
        "list_rev = []                                                      #initiate to store all our reviews\n",
        "for pages in range(1,11):\n",
        "  file = open(path+'_page_'+str(pages)+'.html',encoding='utf-8')   #open each earlier saved file \n",
        "  soup = BeautifulSoup(file, 'html.parser')                        #parse the file\n",
        "  #print(pages)                                                    #to check if on the right page and corresponding reviews\n",
        "  for i in soup.find_all('span',{'class':\"a-size-base review-text review-text-content\"}): #works for both data-hook and class :\n",
        "    #print(i.text)\n",
        "    list_rev.append(i.text)                                         #when appending we are getting to '\\n\\n' characters are start and end of each review\n",
        "\n",
        "print(list_rev[20:40])\n"
      ],
      "execution_count": 17,
      "outputs": [
        {
          "output_type": "stream",
          "name": "stdout",
          "text": [
            "['\\n\\n  I didn’t like this book at all. I had high expectations based on the reviews but it was a total waste of money. There’s nothing on the book that I don’t already know. It doesn’t have a guideline, instead  it uses dumb examples of people who accomplished certain goals based on their habits. I stopped reading it 3/4 of the way through. Not my type of book.\\n\\n', \"\\n\\n  If you have ever taken an introductory psychology course, created a detailed schedule or plan, or have a daily routine, then this book will tell you absolutely nothing new. It could be useful for a teenager or very young adult who has limited life experience & knowledge, but the fact that it's popular among adults I feel, sadly, demonstrates a poor lack of education and ambition for self-help in our society.Here are a few suggestions outlined in the book:After eating dinner, I will put my plate directly in the dishwasher.If I want to learn something new, I will surround myself with people who already know it.If my smartphone is distracting me during work, leave it another room.To encourage taking vitamins, keep the vitamins near your sink & water glass where I will see it in the morining.I would hope that the typical adults would already have the forethought to be using habits such as these.Additionally, about half the book are lengthy anecdotes.Overall, I'm extremely disappointed in this book and question why these simple, intuitive techniques aren't already being used by society.\\n\\n\", '\\n\\n  So many nonfiction books are too full of fluff, too text book-y or just plain too long.Not Atomic Habits.Somehow, James Clear has packed it all in:- Innovative, novel concepts with the- Proven science of what’s behind them with- Practical steps for easy implementation and- Memorable, entertaining stories that bring the ideas to life.I was lucky to get access to the audiobook early, and I devoured it. I’m glad I did.If this book doesn’t change your life in some significant way, I don’t know what will.Mo BunnellAuthor, The Snowball System: How to win more business and turn clients into raving fans\\n\\n', \"\\n\\n  I bought this book because I am a big believer in building habits and predictable routines in one's personal and work life. I read the whole book. I was disappointed.Pros:- Links identity and habits. You are what you do. From that point of view, just going to the gym makes you the type of person who works out, even if you don't do much of a workout.- Introduces the idea that habits bring cumulative benefits like compound interest. While not obviously always the case, it's a powerful idea that definitely applies in areas like meditation or physical training, where the observable changes are minimal at first.Cons:- The book doesn't delve into examples of good habits and the why and how to build them. It stays at the meta / generic level, leaving the reader to think about what habits they may want to build.- The overall principles for building good habits are sound, even if high level and a bit obvious (make the good habits easy, the bad ones hard, etc).- The book is way too long for what it has to convey. Often things repeat or you wonder when the next chapter or thought will start, and when that happens, you lose track of what the earlier one was about -- mainly due to their length.Overall, not recommended.\\n\\n\", \"\\n\\n  I've been reading James Clear's work for a long time.  In fact, I can remember his first two blogs, one for photography and the other was Passive Panda.  Since that time his exploration of habits and how to modify them has easily equaled or surpassed the work of Charles Duhigg.I would highly recommend this book to anyone looking to improve and build good habits or stifle and destroy bad ones.  As I have the audio version,  one of the reasons I give the book 4/5 is due to the speed at which he speaks, which is not bad and I admit to being spoilt by the professional narrators of two other audiobooks in, Deep Work and Rejectionproof. The other reason is the reliance on the work of social scientists, psychologists, etc.  I realize that a number of books in the self-improvement space use scientific studies from the above-mentioned fields but the scandals concerning p-hacking and failure to replicate experiments make me wonder how valid the examples in this book and books like it really are.Having said all of that, I would not have stuck with James all these years if he did not provide information that was useful and more importantly, actionable. I look forward to reading whatever he writes next.\\n\\n\", '\\n\\n  Eh, nothing new here.\\n\\n', '\\n\\n  8/10Atomic Habits is a useful book. It’s a practical guide to identifying and changing your habits. It’s something you can actually put into practice in your life.I think that all of the concepts in the book are good and useful to know but some of the action points I think are slightly oversimplified. If you take the action points in some chapters and modify them to your specific situation you can still apply most of them but you do have to do some critical thinking with the material.I like that the book is simple and straightforward. James Clear doesn’t bog you down with a lot of conceptual material. He starts each chapter with an example (some are better than others), gives you the concept plainly, and then gives you concrete actions to apply the concept in real life. It’s a nice formula. Each chapter is roughly 15-20min.This book is worth reading. It’s easy to apply the knowledge and action steps. Even if it doesn’t completely change your behavior, it will make you more aware of yourself. It provides a good lens that you can use to view yourself and others. I would recommend it to anyone who is trying to really set an air-tight routine. If you follow the book you can definitely make something a habit.I’m a fan of James Clear. I have read his newsletter for about 2yrs now. His newsletter is one of the best I’ve read because it’s interesting and well researched and always has some take away for me. His book is really an expansion on a lot of things he’s covered in his newsletter. There are some chapters that I was already very familiar with because I had read his previous material on it. This doesn’t detract from the book. He expands on most things he’s written about before. The book is laid out like a road map and builds upon itself, which is something you don’t really get from the newsletter.The intro is pretty graphic. It’s about a personal injury the author has faced. I recommend being prepared for that. Once you get through that it’s all good.\\n\\n', \"\\n\\n  So disappointed in this book.  Double and rambling repetition of same basic premise. Make small positive choices every day over time result in positive outcome.  Staggering amount of fluff in between.  Message could be delivered on one page.  Something has to be up with these recommendations. I've never seen a book with 22K ratings w/ five stars. Especially a book as poor as this one.\\n\\n\", \"\\n\\n  The most impactful book I've ever read about habits was The Power of Habit....and then Atomic Habits came along. James takes everything I loved about The Power of Habit and expands on it here. The book is chock full of real, practical, and actional advice anyone can take to add more good habits and tweak bad habits over the long term.I was able to listen to a copy and James is a clear narrator who tells an interesting story. He mixes the perfect blend of science and stories to get the point across and make you feel like creating new habits is not some daunting task only for special people but for anyone. I found myself nodding along as I listened and stopped it at least a dozen times to take notes.I got at least 4-5 'a-ha' moments about building habits that shattered the conventional wisdom I'd always thought about before. From realizing that I've been approaching will-power the wrong way and the question that I should ask myself next time I want to lose weight or work out.I've been thinking about Atomic Habits since I finished it and cannot wait to dig into it again. I've been recommending it to everyone.\\n\\n\", \"\\n\\n  I've been a fan of James Clear for some time and I think his work is amazing. I couldn't be more happy to see his new book come out and I've been devouring this since I got it. I've read a lot on the topic of habits, including Charles Duhigg's book. I think Atomic Habits delivers the best science and easiest practical applications for habit change that is available today.This book has not only been blowing my mind, but I've been taking diligent notes on the strategies and tactics to put to use immediately. The Habit Scorecard is a great example of a self inventory on good, neutral, and bad habits - which starts with awareness about your habits.Chapter 2 is a total game-changer and something I've actually believed for a long time, to change your habits, you have to change your beliefs about who you want to become. You have to aspire to become what you are seeking to change. In other words, it's not about the outcome, it's about what you value and who you're striving to be. This is transformative stuff and so glad James has written about this.Honestly, there is not one person I know who wouldn't benefit from reading this book as habits are truly the core of success in any area of life.I HIGHLY recommend reading and applying this book because it speaks the truth: small changes repeated over and over make the biggest difference in the quality of our lives. These strategies can be applied to anything.HUGE congrats to James Clear for sharing such brilliant work!\\n\\n\", \"\\n\\n  I found this book to be a solid follow-up to Charles Duhigg's Power of Habit, which James Clear references in this work. Clear builds upon Duhigg's explanation of habits and explains ways to make it easier for people to both create good habits and break bad habits. His thesis is focused on the 4 laws that make good habits (make it obvious, make it attractive, make it easy, and make it satisfying) and the 4 laws that can break bad habits (make it invisible, make it unattractive, make it difficult, make it unsatisfying). His writing is clear and understandable. I like how there's a concise summary at the end of each chapter and how Clear offers actionable advice. I do feel like some of the later chapters were just filler chapters and that the book could be leaner, but I can understand their placement in the book. Nothing in the book is truly revolutionary but it makes for a quick and actionable read.\\n\\n\", \"\\n\\n  This is one of those self-help books that seems to offer a way to get one's life on track. I have read chapter one and found it to be highly motivating and useful.EXCEPT. Except, chapter one describes the techniques used by a bicycle racing team that showed incredible improvement because of them. An asterisk on page 15 leads to a footnote which refers to a web site where the author says the racing team might also have been using performance enhancing drugs. Wow. How can I continue through the book if the connections made between “atomic habits” and actual results was so poorly analyzed?If they had time to put in a footnote, they had time to stop publication and rework the book. Instead they squandered their credibility. All that said, it is so well written, and so motivating, that I might be able to pick it up again and make use of the concepts. We will see. If I change my opinion, I will come back and edit this.\\n\\n\", '\\n\\n  I really think a lot of people had their first experience with self help with this book. This was very overhyped and people really ate it up. It\\'s just an average self-help book though. 90% fluff and 10% known, sort of fruitful, information. The only two bits of helpful information from this book was the \"systems\" thing, foolish name btw which I\\'ll explain in second, and environment. The systems thing is just subgoals. You have some grand goal like, \"I want to take better care of my teeth\" and so you set up subgoals/systems like \"alright I\\'ll floss, brush, use mouth wash every day in the morning.\" The environment thing is your work space. You don\\'t want to work at the same PC that you can\\'t stop playing League of Legends once you start playing. You want to have a dedicated study/work/reading area. So yeah there\\'s the book. Don\\'t buy.\\n\\n', '\\n\\n  For centuries people have understood the power of habits.  Around 2,000 years ago, the Roman poet Ovid wrote, “Nothing is stronger than habit.”  The 18th century English writer Samuel Johnson wrote, “The chains of habit are too weak to be felt until they are too strong to be broken.”For some time now, we’ve even known how to break habits.  Erasmus, a 16th century Dutch philosopher, wrote, “A nail is driven out by another nail. Habit is overcome by habit.”Stanford Professor B.J. Fogg has made quite a name for himself with his research and teaching of Tiny Habits.If you have done any reading/studying around habits and changing human behavior, you might wonder if there is anything new or exciting in Atomic Habits written by James Clear.The short answer is yes.  This is a well written, well thought out approach to changing habits.Mr. Clear starts by showing why changing behavior is so difficult.  Most people approach behavior change from a wanting something different standpoint.  A few improve their odds by approaching behavior change from a process standpoint.  As Mr. Clear points out, unless you approach behavior change from aligning your long-term behavior with your core beliefs, you have little chance of succeeding.  Instead of focusing on the have or doing, you must first focus on who you wish to be.  There is a short hand for this – Be – Do and then Have.Mr. Clear then guides the reader on a four-step process showing how any behavior is created and developed into a habit. He calls this Cue – Craving – Response (action) – Reward.To create a new habit, you need to 1) Make if obvious 2) Make it attractive 3) Make it easy and 4) Make it satisfying.  To break a habit, simply do the reverse 1) Make it invisible, 2) Make it unattractive 3) Make it difficult and 4) Make it unsatisfying.The book is thoroughly engaging.  Mr. Clear is an accomplished writer.  His writing style is very conversational.  He illustrates the concepts with engaging, real stories.You will be a slave to your habits.  You also have the power to choose the ones you want in your life – they can serve you or rule you.  This book gives you all the tools and information you need to dramatically change your life by changing your habits.\\n\\n', \"\\n\\n  I have slogged through most of this book, and am disappointed.  The book starts off with a lengthy expose about the British cycling team's rise to pinnacle of the sport by developing good habits and building on incremental improvements.  The entire story is demolished by a footnote added late in publishing: British Cycling won by using performance-enhancing drugs.That's a terrible way to start a book about habits, don't you think?It doesn't get better.  Each chapter is sprinkled by callouts and anecdotes.  Some of these might have been interesting, even revealing had more details been provided.  The unfortunate effect is much like hawker in an open bazaar.  There are tantalizing references to the underlying psychology of habit formation, but very little depth.\\n\\n\", \"\\n\\n  A long time fan of James Clear's supremely researched articles and helpful newsletter, I've been eagerly awaiting this book. It does not disappoint. Clear's thoughtful approach to a topic that could easily be considered boring, is a delight to read. Not only is the advice in the book practical, Clear explains the science and evidence behind the ideas. When reading a book like this, the real test for me is how often I think about it after I've finished the read; that's when I know it's made an impact on my thinking or behavior. I find myself thinking back on Atomic Habits daily; making connections to the material in my own life and work, and making changes accordingly. Must-read.\\n\\n\", '\\n\\n  \"Self help\" is in quotes because I think this book is unfairly lumped into that category. This isn\\'t some feel-good book that gets you excited for a day or two before going right back to who you were before reading it. Not only is this scientifically backed and driven at every step, but its steps are also simplified down to a single page that you can reference as much as you need (it\\'s so easy though that you won\\'t need to).It\\'s all about starting small and big things will happen down the line - and how to start on the smallest level possible.A few weeks later and I can already point to multiple small things that I\\'ve changed in my life that are paying large dividends.I would highly recommend this book to anyone who has been putting off learning a new skill or trying to get rid of a bad habit. You\\'ll be upset how easy it actually was all long but glad you finally did it.\\n\\n', '\\n\\n  I\\'ve been a fan of James Clear since I came across the YouTube video in November 2017, \"1% Better Every Day\" (I actually have a recurring reminder set up in my task manager every 6 months to rewatch this video since then---absolutely not kidding!).When I heard on The Productivity Show Podcast that James Clear is coming out with this book on 10/16 I purchased it right on the day it got released. I\\'ve read over 40 books this year and I\\'d consider this book to be one of my personal top 3 most impactful book of 2018.I admit that I am a recovering perfectionist and put a lot of pressure on myself to excel at goals I\\'ve set out for myself. After reading this book, instead of focusing on goals I\\'ve listed out processes and micro habits it will take to \"become\" the person I want to identify with. I can already feel a huge amount of pressure taken off. Side note: I also love how each chapters start out with a short story relevant to the chapter topic. I look forward to re-reading this book again and reviewing all of my highlighted sections.\\n\\n', '\\n\\n  Nothing to write home about. You can learn much more from just reading the Bible and practicing what it says.\\n\\n', '\\n\\n  So I read the book... and to be honest, I felt like this was information that is practically common sense.  Maybe it’s just me, but after seeing so many positive reviews for this book I was hoping for life altering advice that no other book has divulged.\\n\\n']\n"
          ]
        }
      ]
    },
    {
      "cell_type": "code",
      "metadata": {
        "colab": {
          "base_uri": "https://localhost:8080/"
        },
        "id": "HLyEJANsOIRY",
        "outputId": "bc8edb05-1df2-48b2-a3e3-5b867f1a46e7"
      },
      "source": [
        "#to remove the front and end of line characters.\n",
        "list_rev[:] = [(rev.rstrip(\"\\n\\n\")) for rev in list_rev]\n",
        "list_rev[:] = [(rev.lstrip(\"\\n\\n \")) for rev in list_rev] #and (rev.rstrip(\"\\n\\n\")) , stripped only right \\n\\n\n",
        "list_rev[:10]                                              "
      ],
      "execution_count": 18,
      "outputs": [
        {
          "output_type": "execute_result",
          "data": {
            "text/plain": [
              "['I previously wrote this review right after reading the book.  Today, February 15th, after applying James’s system for 100 days on a few tiny habits, I feel compelled to share updates with you because they have sincerely worked.I will divide the review into 5 parts.  The first part is a summary of the book with short excerpts highlighted while taking notes.  Next, I hope to share pieces of advice that have motivated me while building new habits.  Following that, I will share how I implemented the first 3 habits throughout these months.  Then, some thoughts to whom I would recommend reading the book.  Last, there are 4 complementary readings.SUMMARY[Introduction]  James starts by sharing personal strategies he implemented to recover from a serious accident in high school.  That event forced him to improve the quality of his routine to get his life in order, coming to the conclusion that “we all deal with setbacks, but in the long run, the quality of our lives often depends on the quality of our habits.  With the same habits, you will end up with the same results.  But with better habits, anything is possible.”[Section I  :  The Fundamentals][Chapter 1]  Here we learn the power of compounding effect:  changes that seem small and unimportant at any given day will compound into remarkable results if we are willing to stick with them for months and years.  James explains that “breakthrough moments are often the result of many previous actions, which build up the potential required to unleash a major change.”  Comparing to habits, he shows that bamboo can barely be seen during the first couple of years while the roots grow underground before exploding for almost 100 feet into the air in a few weeks.  From that perspective, we come to understand the best outcomes are generally delayed.[Chapter 2]  Based on a 3-layer concentric circle behavior change model—divided into outcome change, process change, and identity change—James explains that we should pay attention to our inner identity by focusing on beliefs, assumptions, and values.  “Many people begin the process of changing their habits by focusing on what they want to achieve.  This leads us to outcome-based habits.  The alternative is to build identity-based habits.  With this approach, we start by focusing on who we wish to become.”  The strongest changes, then, happen from inside out, starting from our identity, passing through the process, and ultimately changing the outcome.[Chapter 3]  In this chapter we are introduced to a 4-step framework, which is composed of cue, craving, response, and reward.  James calls it \\'The 4 Laws of Behavior Change\\'.  He then explains that we can think of each law as a lever that influences our behavior—when the levers are in the right positions, they create good habits effortless whereas when they are in the wrong position, it is nearly impossible.  Through examples, he explains that “the cue triggers a craving, which motivates a response, which provides a reward, which satisfies the craving and, ultimately, becomes associated with the cue.”  Together they create a habit loop that, when repeated many times, habits become automatic.[Section II  :  Make It Obvious][Chapter 4]  A primer on how cues play a crucial role in predicting habit formation without consciously thinking about the outcomes.  Once our habits become so common, the cues associated with them become essentially invisible because they are deeply encoded.  If we want to create better habits, a good idea is to be aware of the cues.  James finishes up by sharing a strategy called \\'Habits Scorecard\\'—a simple exercise to become more aware of our behavior on a daily basis.  We first write down a chronological list of our daily habits and, once we have a full list, we score each habit as an effective, ineffective, or neutral habit.  Besides noticing what is actually going on, we can notice if certain behaviors help us become the type of person we wish to be.[Chapter 5]  The cues that can trigger a habit come in a wide range of forms, and the 2 most common cues are time and location.  When we make a specific plan for when and where we will perform a new habit, we are more likely to follow through.  Stacking our habits by pairing a new habit with a current habit is a form to connect our behavior to our own advantage.  An example when building a daily journaling habit would be: “after I pour my cup of coffee each morning, I will journal for 5 minutes.”[Chapter 6]  This chapter shows how our environment plays a crucial role in defining habit behaviors.  “Given that we are more dependent on vision than any other sense, it should come as no surprise that visual cues are the greatest catalyst of our behavior.”  To build good habits, then, we should either make desirable cues obvious in our environment or build new habits in a new environment to avoid fighting against old ones.[Chapter 7]  One of the most practical ways to break a bad habit is to reduce exposure to the cue that causes it.  As James points out, “it is easier to avoid temptation than resist it.”[Section III  :  Make It Attractive][Chapter 8]  James explains how the modern food industry has created products that are more attractive and addictive to consumers, and by doing so he shows that the more attractive an opportunity is, the more likely it is to become habit-forming.  Every behavior that is highly habit-forming tends to be associated with higher levels of dopamine.  It is the anticipation of a reward that motivates us to take action.  “Temptation bundling is one way to make your habits more attractive.  The strategy is to pair an action you want to do with an action you need to do.”[Chapter 9]  “We tend to adopt habits that are praised and approved of by our culture because we have a strong desire to fit in and belong to the tribe.”  That said, it is common to pick up habits and behaviors from our parents, peers, and colleagues.  There is also a tremendous internal pressure to comply with the norms of the tribe.  And, finally, we try to copy the behavior of successful people because we desire success ourselves.  One of the best strategies to build better habits is to join a culture where the desired behavior is the normal behavior.[Chapter 10]  To avoid unnecessary and detrimental cravings, we should highlight the benefits of avoiding a bad habit by making it seem unattractive.  “Habits are unattractive when we associate them with negative feelings.”[Section IV  :  Make It Easy][Chapter 11]  “All habits follow a similar trajectory from effortful practice to automatic behavior, a process known as automaticity.  Automaticity is the ability to perform a behavior without thinking about each step, which occurs when the nonconscious mind takes over.”  The key component is to pay close attention to the frequency we perform a habit, not much for how long we have been practicing it.[Chapter 12]  Since every action requires a certain amount of energy, we are motivated to do what is easy.  By contrast, the more energy required, the less likely it is to occur.  “You don\\'t actually want the habit itself.  What you really want is the outcome the habit delivers.  The greater the obstacle, the more friction there is between you and your desired end state.”  That is why we should reduce the friction associated with our habits by creating a prosperous environment to make future actions easier.[Chapter 13]  There are decisive moments that deliver an outsized impact every single day.  As James puts, these decisive moments are a fork in the road, sending us in the direction of a productive path or an unproductive one.  To avoid procrastination, the skill of \\'Showing Up\\' says that we should start a new habit by taking baby steps, making it as easy as possible to take action.  “A new habit should not feel like a challenge.  The actions that follow can be challenging, but the first 2 minutes should be easy.  What you want is a gateway habit that naturally leads you down a more productive path.”  He calls it the \\'Two-Minute Rule\\', meaning that new habits should take less than 2 minutes to do in the beginning.  Once the habit is established we can improve and master the finer details.[Chapter 14]  In order to keep bad habits away is to make them difficult in the first place.  There are 2 interesting strategies to improve our future behavior.  [1] Make good choices in advance before we can fall victim to temptation in the future.  James gives a personal example by sharing that whenever he is looking to cut calories he will ask the waiter to split his meal and box half of it to go before the meal is served.  If, however, he waits for the meal to be served and tries to eat just half, that would never happen.  [2] Make onetime actions that can automate our future habits and deliver increasing returns over time such as buying a good water filter, unsubscribing from unwanted emails, moving to a friendlier neighborhood, buying a standing desk, or setting up automatic bill pay.[Section V  :  Make It Satisfying][Chapter 15]  We should make sure to feel immediately satisfied after performing a new habit to increase the odds that the behavior will be repeated next time.  “The human brain has evolved to prioritize immediate rewards over delayed rewards.”  For that, we can add a little bit of immediate pleasure to the habits that pay off in the long-run.[Chapter 16]  Here we learn how to measure our progress by tracking our habits.  The immediate satisfaction it delivers—as mentioned earlier in Chapter 15—is one of the many benefits that standout.  Besides that, James says, “when we get a signal that we are moving forward, we become more motivated to continue down that path.”  The most basic format to track our habits is to get a calendar and mark an X each time we stick with our routine.  One of the most important passages of the entire book is as follows:  “If you miss one day, try to get back into it as quickly as possible.  The first mistake is never the one that ruins you.  It is the spiral of repeated mistakes that follows.  Missing once is an accident.  Missing twice is the start of a new habit.  This is a distinguishing feature between winners and losers.  Anyone can have a bad performance, a bad workout, or a bad day at work.  But when successful people fail, they rebound quickly.”[Chapter 17]  In order to prevent bad habits and/or eliminate unhealthy behaviors, James says that we could either add an instant cost to the action or make it painful.  A habit contract is also another strategy to hold our accountability:  “It is a verbal or written agreement in which you state your commitment to a particular habit and the punishment that will occur if you don\\'t follow through.  Then you find one to two people to act as your accountability partners and sign off on the contract with you.”[Section VI  :  Advanced Techniques][Chapter 18]  We learn how to distinguish habits when genes may or may not influence our performance especially for competitive activities.  “One of the best ways to ensure your habits remain satisfying over the long-run is to pick behaviors that align with your personality and skills.”  James proposes us to set some time apart to explore new activities in the beginning, before shifting our focus to exploit them thoroughly.[Chapter 19]  When we find the sweet spot of our ability we tend to learn best and fastest.  The ‘Goldilocks Rule’ states that \"humans experience peak motivation when working on tasks that are right on the edge of their current abilities.  Not too hard.  Not too easy.  Just right.”[Chapter 20]  One downside of certain habits, James explains, is that we may stop paying attention to the little details and errors.  To counterbalance that we should review and reflect on the process over time to remain conscious of our own performance.  Using a simple chart to convey his message, we learn that “the process of mastery requires that you progressively layer improvements on top of one another, each habit building upon the last until a new level of performance has been reached and a higher range of skills has been internalized.”PERSONAL THOUGHTSReading the book twice helped me take better notes and capture details.  In the meantime, I thought about 3 simple strategies that could improve our adherence to new habits.  Let me share these strategies here with you, and in the following section, I will describe how I managed to cultivate the first 3 new habits upon reading the book—following the system proposed by James together with these 3 strategies.[1]  The first strategy is about determining a \\'commitment time frame\\' to avoid excuses during this initial trial period.  A 1-month time frame is a fair commitment, choosing to start on the first day of the month to practice it every single day for a full month.  Just at the end of the period, I will take the time to reflect and evaluate the pros and cons.[2]  The next one is to choose only 1 new habit each month.  In doing so we become familiar with the practice intentionally while we develop a sense of purpose.[3]  Last, during the first month of any new habit, I noticed that if I spend time exploring the details and the benefits, my motivation stays high.  It doesn\\'t only help us create better practices, but it is also inspiring to learn from others who have succeeded previously by adding the same habit into their lives.  Podcasts, articles, videos, books, online courses, tutorials, and blog posts are all good sources.IMPLEMENTATION OF NEW HABITS[Nov 1, 2018]  I had been wanting to journal on a daily basis for many years but that had never happened.  Although I have carried a notebook with me for quite a while, it has never worked as a real journal—a daily routine, when we sit down and write personal thoughts, intentions, and reflections at around the same time.  Instead, it has been mostly used to take notes during meetings, to write down ideas and thoughts, to express travel memories, and to doodle.  Today, after 3+ months, I haven\\'t looked back once, and still can\\'t believe it took me that long to start this daily habit.  During the first month, I read blog posts, watched videos, and even read a short and inexpensive book to foster my creativity.[Dec 1, 2018]  I have been impressed by the physical capabilities we can develop through body movement.  Although yoga has been a special part of my life since I was 18, I hadn\\'t given proper attention to handstands.  But now, after 2+ months practicing it every day, it is rewarding to see improvements on a weekly basis.  Again, I definitely recommend watching videos and reading tutorials to find your favorite method.  This is the perfect habit to stack at the end or in the middle of any physical movement practice you may enjoy.[Jan 1, 2019]  By now we know the benefits of cold showers—ranging from healthier skin appearance all the way to a more resilient perspective of the world.  I had previously taken cold showers for 3 months in 2017, but it was a “goal” mindset instead of a “habit” mindset.  After that trial I set aside and, although I have kept taking cold showers once or twice a week since then, I wished cold showers was the default mode.  Now, after 1+ month, I can\\'t see myself taking warm showers.  After all, it is about intention.  Again, we can learn uncountable benefits of cold showers by reading success stories.  One of my inspirations was Wim Hof.  It isn\\'t comfortable in the beginning of any chosen day, but after 3-4 minutes, both my breath and thoughts calm down.Putting them together, these 3 habits don\\'t take more than 30 minutes of my day.  While I spend about 10 minutes journaling and 10 more minutes practicing handstands, I save 5 minutes taking cold showers because I won\\'t stay any longer than necessary.RECOMMENDATION[1]  First, if you have watched videos, listened to podcasts, read articles and books on habit formation and, after all that, you feel satisfied, then, please, save your money and time.[2]  However, if you are like me, that even after reading a few books on building habits and having successfully added good habits to your life, feel that there is still room for improvement, this book can be a terrific addition.[3]  Last, if you haven\\'t spent much time and energy discovering a good system to build lasting habits while breaking bad ones, please, read this book.COMPLEMENTARY READINGS[1]  Game Changers, by Dave Asprey, exposed me to a wealth array of ideas/habits/tools that have helped me decide which new habit to build next.  The book is divided into 46 laws.[2]  Essentialism, by Greg McKeown, helped me focus on less but more important tasks, giving clarity to what matters most.  This is especially interesting to break bad habits.[3]  The Talent Code, by Daniel Coyle, brought more motivation when learning new skills based on the assumptions that we develop new talents through deep practices, finding our ignition identity, and having the right coach to guide us genuinely.  I read it many years ago, then, a few years back, I read his following book called The Little Book of Talent—which is perhaps even more to the point.[4]  The Systems View of Life, by Fritjof Capra, enlightened my perspectives on how nature and living beings are systematically integrated.  It is a profound and slightly academic book that can complement Atomic Habits especially to tie together the 4-step framework into the feedback loop system.I sincerely hope you, too, have fun while building new habits.Take care,Haical',\n",
              " 'I\\'ve read a lot of books on changing behavior and building habits and James Clear\\'s  Atomic Habits is my new favorite. This book is different from others in the way it covers an enormous amount of ground in the larger area of self-improvement while seamlessly tying all these ideas back into the central theme of habits.One of the core concepts in Atomic Habits is to focus on the small improvement. The impact a 1% improvement per day can make may appear negligible at first, but Clear makes a compelling argument that in the case of habits, thinking small produces the biggest results over time. \"Habits are the compound interest of self-improvement,\" explains Clear.Over the months and years, the accumulated effect of small habitual daily behaviors is staggering. Early in the book we are also warned that this compounding works both ways, so we\\'d better make sure we\\'re making it work in the positive direction, not for the negative.This is a concept I was introduced to years ago under a different name - Kaizen - the Japanese term for continuous incremental improvement. What\\'s different and new in this book is how the concept is applied specifically to building habits.I found the information introduced in chapter two about behavior change at the identity level to be spot-on. You\\'re also given a simple two-step process for changing your identity and this one idea alone is incredibly powerful.In chapter three, we are introduced to the habit loop - cue, craving, response, reward - and we learn how to build good habits in 4 simple steps and break bad habits in 4 simple steps.One of those steps to habit formation, which goes hand in hand with the 1% concept, is how to make it not only small, but easy. In the chapters that follow, this is exactly what you find out.Other ideas of great value that stood out included, habit stacking (the best way to form a new habit), habit tracking, habit shaping and how to design your environment - physical and social - for habit building success. You learn the truth about self-control, how to stop procrastinating and how to use implementation intentions, temptation bundling and motivational rituals. The book is simply packed with actionable ideas, tactics and strategies.Virtually every idea in the book is useful and resonated with me. While I may not agree that we should \"forget about goals,\" I agree with one of Clear\\'s core principles in the book - that we must develop systems for change. If we only focus on goals and don\\'t develop systems and a focus on the process, we risk falling into a number of goal-related traps which ultimately lead to stagnation. With the right systems, we\\'re rewarded with continuous improvement on a lifelong journey of success.Another difference between Atomic Habits and other books in this genre is that while it\\'s based on science it doesn\\'t bog you down with unnecessary details of the research. Clear\\'s book is intensely practical, giving you a huge toolkit of organized and named strategies you can apply immediately to create and strengthen positive habits and stop the negative ones.The book is conversational, and includes many interesting stories, making it easy to read - and hard to put down (I read it cover to cover in one day).It\\'s possible this might become your most highlighted personal improvement book because every page is so chocked full of memorable and quotable gems of advice.',\n",
              " 'Disclaimer: I scored the jackpot and got my grubby paws on this early.I didn\\'t see myself getting especially excited about this book. I was like, \"OK James. I like you. You seem like a nice guy. Your work is very link-able and that\\'s made my life simpler on many an occasion. I TOTALLY FEEL SPECIAL because you have involved me (*marginally) in your ~process~. But habits? *yawn* What-evvvvver. Btw, I already know LIKE EV-UH-RYTHING because I read Charles Duhigg\\'s book and was early on the Fogg method game. Ergo: I am The Expert. Bow down b*tches.\" <--Ok just kidding on that last line. But BA-sicallyy.My inner world is................. a special place.I didn\\'t think I was going to get hype about a book about habits, yet here we are. I am hype about a book.... about habits. Why??? Why has this drama-loving, big picture adoring, enthusiastic creature shifted keys to start singing song of habits? Because it\\'s unflattering. And that\\'s EXACTLY why we need to self-examine.Here\\'s the thing:Every person reading this review (also, hi!) has bad habits.Every person reading this review has good ones.And - I would wager - every person reading this review has unfinished business.There\\'s some dream, change, or new echelon of self-actualization you have yet to inhabit. The problem isn\\'t your ambitions -- it\\'s your habits. James wrote something powerful I will directly quote when writing with book in hand. The message is this: success isn\\'t determined by the scale of your dreams. Winners and losers have the same dreams. But the winners have better habits.There are a number of ~juicy nuggets~ that will come out of the woodwork to slap your b*tch-ass into line. I doubled back on more than one occasion. Check out his Instagram -- he\\'s been sharing a number of nice one liners. But if you\\'re like......... 80% of the way there, you might as well.This book is:- Actionable- Pragmatic- Grounded <-- woah!- Science-y- Sweet- Readable <-- nice.My advice:1. If you\\'re this deep in the reviews section, buy the book.2. Seriously, buy the book.3. While you wait for it to arrive, mentally accept that James Clear will not personally pry the donut from your grip and supervise your situps.4. Open your Amazon package.5. Read the book.6. Learn things.7. Implement said things.8. Rinse repeat.9. *Flourish*Thanks for reading along. It\\'s been an honor! *hat tip, bows*',\n",
              " \"I got this through Audible (audiobook format). I thought it strange that one of the reviewers mentioned that the author kept mentioning his website. He does, but I didn't think anything of it. Going through the book (ie. listening to it), I was interested in the habits report card. I typically listen 2X, so the URL went by quickly. Later when I had some time I thought easy peasy, just Google atomic habits score card.The search revealed no real tangible links. Using the book title as the URL, it redirects to his website's page for the book. And that page is more or less just a sales page.No biggie I think, its I the audiobook, I just need to go back and find it. I think this is a reasonable defense to have people use an explicit url to get to the info. I backtrack and find the url. Type it in my browser ... and ... you need to give him your email.I already bought your book. I get enough spam as it is and I don't want to be on a mailing list. Disappointing.\",\n",
              " 'I had high hopes for this but it is way too wordy. The information in this book could easily be communicated in half the amount of pages. It is all filler and I quickly lost interest.',\n",
              " 'I was quite disappointed in this book given the reviews.  It could be summed up in a couple of pages.  There is no plan for making improvements in your life, just a few obvious observations about habits that are repeated over and over.  Not worth the time or money.',\n",
              " \"I have been receiving James Clear's newsletter for several months so when the book got out I ordered the kindle version immediately. But while the newsletter is occasionally interesting, the book is rather empty. There's nothing new, it's just a rehash of other books on the subject. There is no new perspective, no new insights. And there's nothing atomic about it. I am really disappointed, and I could not believe that the book became an instant best seller. If you have never read anything about habit forming, you will benefit from this book. But if you have, I don't see what you can get from Atomic Habits. I am also becoming tired of all the personal success stories from book authors because they can't be applied to the layman. I found there was nothing to learn from James' baseball days, as I never was an athlete and never excelled in sport. Feels like the average reader can't do this. I have bought the audible and Kindle version and will return one of them, keeping the other just to be fair to the author\",\n",
              " 'How some books on Amazon get 5 stars is beyond me, perhaps it is from people who are easily entertained or even easily educated  (which then doesn\\'t say much about much).This is a very simplistic book and here it is in a nutshell : Small habits done daily compound and add up. In other words if you eat cake today, no big deal, if you eat cake everyday you\\'re on your way to bad health. Wow that was earth shattering knowledge.  Then it goes on to describe how to get rid of bad habits:  one, try to make it hard for you to do them and to implement good habits try to make it easy for you to do them. And then each chapter will give you an idea of how to make it easy. Eg. Make it easy by your environment, ie. keep your gym shoes near your bed.....(wow such wisdom.....lol).  Have friends who are similar minded to your habits, ie. you both like going to the  gym etc.Each chapter starts off with a short story about something connected to the habit discussed, which I find is a cheap way for an author to look  \"intellectual\".  Eg, back in 1942 some Russians did experiments on bladdy blah .I suspect the 5 stars are because its an easy read. I suspect the 1 stars are because 3 months after reading the book you won\\'t change a darn thing and you\\'ll continue to live your life like you always have. Therefore the book is worthless except for a bit of entertainment.',\n",
              " 'Over the past few years I have been an avid reader of James Clear’s posts and emails. His blogs and other articles have provided me with a solid structure and framework on habit building thereby driving both achievement and fulfilment in everything I do in life. Whether it is healthy eating, hitting the gym, or keeping my focus in the work environment his advice, tools and approaches have greatly benefited me.I was fortunate enough to get a pre-release copy of Atomic Habits and jumped straight into it. It isn’t a long read, however, it is structured in a way that provides a good overview of why habits are important, tools and techniques on how to establish habits as well as a plethora of real life examples. James also makes reference to an additional set of tools on the Atomic Habits website which you can also leverage (e.g. habit trackers, cheat sheets, guides etc.)The book centres on the both on the four stages of developing a habit and the laws of behaviour change. The latter he delves into in great detail, again with many examples on how to apply within your own life given constraints. The book had a nice pace and balance on theory and application.The biggest thing I have learned (also from his blogs) is the difference between goals and habits. For example, instead of setting a goal, create an identity and establish small habits that align to that identity. For example, don’t say you want to lose weight, but rather identify with being a healthy person that exercises most days and eats well. The habits might be drinking x amount of water a day, 10 push-ups a day, walking 10,000 steps per day etc; and increase the habits once they are firmly established.Given the applicability of this topic, it is a book everyone should read. Unfortunately there are many key areas we don’t get educated on at school. This is one area that is important for life in everything that we do. Highly recommend Atomic Habits!Three key takeaways from the book:1. Habit stacking. Put your clothes out next to your bed before going to sleep so that when you wake up it is the first thing you do or think about. That habit will then drive the habit to go to the gym etc.2. Look to establish identity habits versus reaching for goals or developing finite habits. Habits based on beliefs are much more powerful.3. When it comes to wanting to do something (good or bad) 90% of the dopamine release is driven by the desire versus and 10% on the actual experience.',\n",
              " 'This book was a disappointment. Most of the ideas presented have already been covered by other authors, in greater depth and with more skill. Many statements in the book need to be examined and challenged. For example, \"Behavior that is incongruent with the self will not last.\" One characteristic of addictions is that they persist even though they are incongruent with the self. The author states, \"Your behaviors are usually a reflection of your identity.\" This seems like a very unscientific statement that ignores the many other factors that make us do what we do. Clear continues, \"The person who incorporates exercise into their identity doesn\\'t have to convince themselves to train. Doing the right thing is easy.\" These statements early on in the book make the reader suspect that this author doesn\\'t have a nuanced grasp of the human mind and human behavior. Doing the right thing is NOT easy, because we are biologically programmed to do the EASY thing, not the \"right\" thing. This fundamental concept is explained clearly by Stanford psychologist Kelly McGonigal in The Willpower Instinct: How Self-Control Works, Why It Matters, and What You Can Do to Get More of It. McGonigal\\'s book is much better than this one in its organization, depth, empirical basis, and practical applications.The author proposes four brandable rules of habits---ideas that are marketable as his personal brand, without being well thought out. The book is a sort of pastiche of other authors\\' work, skimmed off the top and lacking a real understanding of those authors. I don\\'t mean to say that there are no useful ideas in the book; that would be unfair. But my motivation to contemplate the useful ideas was undermined by the great number of statements that are untested, unexamined by the author, or just plain false in the light of scientific evidence. That\\'s odd, because he markets his philosophy as science based. It\\'s unclear from his biography how James Clear came to be regarded as a habit guru, other than through skillful self-promotion. He often refers to his identity as a writer, but I think he is more of a marketer than writer.If you really want to understand why it\\'s so hard to develop consistent good habits and how you can overcome the natural human resistance to good habits, start with McGonigal\\'s The Willpower Instinct. You will find out why her courses at Stanford are mobbed.']"
            ]
          },
          "metadata": {},
          "execution_count": 18
        }
      ]
    },
    {
      "cell_type": "code",
      "metadata": {
        "colab": {
          "base_uri": "https://localhost:8080/",
          "height": 514
        },
        "id": "1FPrwD2xUQw6",
        "outputId": "e05d5bca-ba49-4540-9249-4a46d60a355c"
      },
      "source": [
        "#time to put it all in a neat DataFrame for later processing\n",
        "final_df = pd.DataFrame({'Reviews':list_rev})\n",
        "pd.set_option('display.max_colwidth', 100)\n",
        "final_df.head(15)"
      ],
      "execution_count": 19,
      "outputs": [
        {
          "output_type": "execute_result",
          "data": {
            "text/html": [
              "<div>\n",
              "<style scoped>\n",
              "    .dataframe tbody tr th:only-of-type {\n",
              "        vertical-align: middle;\n",
              "    }\n",
              "\n",
              "    .dataframe tbody tr th {\n",
              "        vertical-align: top;\n",
              "    }\n",
              "\n",
              "    .dataframe thead th {\n",
              "        text-align: right;\n",
              "    }\n",
              "</style>\n",
              "<table border=\"1\" class=\"dataframe\">\n",
              "  <thead>\n",
              "    <tr style=\"text-align: right;\">\n",
              "      <th></th>\n",
              "      <th>Reviews</th>\n",
              "    </tr>\n",
              "  </thead>\n",
              "  <tbody>\n",
              "    <tr>\n",
              "      <th>0</th>\n",
              "      <td>I previously wrote this review right after reading the book.  Today, February 15th, after applyi...</td>\n",
              "    </tr>\n",
              "    <tr>\n",
              "      <th>1</th>\n",
              "      <td>I've read a lot of books on changing behavior and building habits and James Clear's  Atomic Habi...</td>\n",
              "    </tr>\n",
              "    <tr>\n",
              "      <th>2</th>\n",
              "      <td>Disclaimer: I scored the jackpot and got my grubby paws on this early.I didn't see myself gettin...</td>\n",
              "    </tr>\n",
              "    <tr>\n",
              "      <th>3</th>\n",
              "      <td>I got this through Audible (audiobook format). I thought it strange that one of the reviewers me...</td>\n",
              "    </tr>\n",
              "    <tr>\n",
              "      <th>4</th>\n",
              "      <td>I had high hopes for this but it is way too wordy. The information in this book could easily be ...</td>\n",
              "    </tr>\n",
              "    <tr>\n",
              "      <th>5</th>\n",
              "      <td>I was quite disappointed in this book given the reviews.  It could be summed up in a couple of p...</td>\n",
              "    </tr>\n",
              "    <tr>\n",
              "      <th>6</th>\n",
              "      <td>I have been receiving James Clear's newsletter for several months so when the book got out I ord...</td>\n",
              "    </tr>\n",
              "    <tr>\n",
              "      <th>7</th>\n",
              "      <td>How some books on Amazon get 5 stars is beyond me, perhaps it is from people who are easily ente...</td>\n",
              "    </tr>\n",
              "    <tr>\n",
              "      <th>8</th>\n",
              "      <td>Over the past few years I have been an avid reader of James Clear’s posts and emails. His blogs ...</td>\n",
              "    </tr>\n",
              "    <tr>\n",
              "      <th>9</th>\n",
              "      <td>This book was a disappointment. Most of the ideas presented have already been covered by other a...</td>\n",
              "    </tr>\n",
              "    <tr>\n",
              "      <th>10</th>\n",
              "      <td>It’s the not the content of the book but the book itself..it was poorly put together including t...</td>\n",
              "    </tr>\n",
              "    <tr>\n",
              "      <th>11</th>\n",
              "      <td>This book was way overhyped.  I found it to be simplistic and dull.Worse, after completing it, I...</td>\n",
              "    </tr>\n",
              "    <tr>\n",
              "      <th>12</th>\n",
              "      <td>All of the material covered could have been condensed in 1 chapter. if you've read other books l...</td>\n",
              "    </tr>\n",
              "    <tr>\n",
              "      <th>13</th>\n",
              "      <td>I barely made it through 1/3 of the book. Reading it as an audiobook, I found it very repetitive...</td>\n",
              "    </tr>\n",
              "    <tr>\n",
              "      <th>14</th>\n",
              "      <td>He says what should be obvious. This book insults my intelligence.  That's hard to do.  Probably...</td>\n",
              "    </tr>\n",
              "  </tbody>\n",
              "</table>\n",
              "</div>"
            ],
            "text/plain": [
              "                                                                                                Reviews\n",
              "0   I previously wrote this review right after reading the book.  Today, February 15th, after applyi...\n",
              "1   I've read a lot of books on changing behavior and building habits and James Clear's  Atomic Habi...\n",
              "2   Disclaimer: I scored the jackpot and got my grubby paws on this early.I didn't see myself gettin...\n",
              "3   I got this through Audible (audiobook format). I thought it strange that one of the reviewers me...\n",
              "4   I had high hopes for this but it is way too wordy. The information in this book could easily be ...\n",
              "5   I was quite disappointed in this book given the reviews.  It could be summed up in a couple of p...\n",
              "6   I have been receiving James Clear's newsletter for several months so when the book got out I ord...\n",
              "7   How some books on Amazon get 5 stars is beyond me, perhaps it is from people who are easily ente...\n",
              "8   Over the past few years I have been an avid reader of James Clear’s posts and emails. His blogs ...\n",
              "9   This book was a disappointment. Most of the ideas presented have already been covered by other a...\n",
              "10  It’s the not the content of the book but the book itself..it was poorly put together including t...\n",
              "11  This book was way overhyped.  I found it to be simplistic and dull.Worse, after completing it, I...\n",
              "12  All of the material covered could have been condensed in 1 chapter. if you've read other books l...\n",
              "13  I barely made it through 1/3 of the book. Reading it as an audiobook, I found it very repetitive...\n",
              "14  He says what should be obvious. This book insults my intelligence.  That's hard to do.  Probably..."
            ]
          },
          "metadata": {},
          "execution_count": 19
        }
      ]
    },
    {
      "cell_type": "code",
      "metadata": {
        "colab": {
          "base_uri": "https://localhost:8080/"
        },
        "id": "ymiM1hUDVk6P",
        "outputId": "6f5683b9-9070-43fe-9450-7bca0bda2bc0"
      },
      "source": [
        "final_df.info"
      ],
      "execution_count": 20,
      "outputs": [
        {
          "output_type": "execute_result",
          "data": {
            "text/plain": [
              "<bound method DataFrame.info of                                                                                                 Reviews\n",
              "0   I previously wrote this review right after reading the book.  Today, February 15th, after applyi...\n",
              "1   I've read a lot of books on changing behavior and building habits and James Clear's  Atomic Habi...\n",
              "2   Disclaimer: I scored the jackpot and got my grubby paws on this early.I didn't see myself gettin...\n",
              "3   I got this through Audible (audiobook format). I thought it strange that one of the reviewers me...\n",
              "4   I had high hopes for this but it is way too wordy. The information in this book could easily be ...\n",
              "..                                                                                                  ...\n",
              "95  We all have habits good and bad.  If we can shift out of bad habits, and into more good and heal...\n",
              "96  I have listened to this book through Audible probably 30-40 times already, and I have given away...\n",
              "97  I love books that help me view life (and therefore, my choices) differently from how we are taug...\n",
              "98  Wow.  This is one of the MOST unbelievable books I have read and has shed so much clarity for me...\n",
              "99  This is a good book, and anyone interested in self-improvement and personal change should read i...\n",
              "\n",
              "[100 rows x 1 columns]>"
            ]
          },
          "metadata": {},
          "execution_count": 20
        }
      ]
    },
    {
      "cell_type": "markdown",
      "metadata": {
        "id": "wzN8eMj9ZisC"
      },
      "source": [
        "Depending upon what to work on this data for, later we'll be considering around 50 pages of reviews, giving us approx 500 reviews, store it in a csv file, and perform some NLP tasks on those reviews.  \n",
        "Another option is to fetch reviews of 10 such best-selling books and then perform cross evaluation based on reviews, their sentiments and other attributes.  \n",
        "Until then, ciao! "
      ]
    },
    {
      "cell_type": "code",
      "metadata": {
        "id": "W4dm814xZWRi"
      },
      "source": [
        ""
      ],
      "execution_count": 20,
      "outputs": []
    }
  ]
}